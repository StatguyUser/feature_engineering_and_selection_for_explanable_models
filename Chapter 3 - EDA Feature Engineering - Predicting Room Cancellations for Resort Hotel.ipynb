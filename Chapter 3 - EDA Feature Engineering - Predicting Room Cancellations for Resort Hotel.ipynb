{
 "cells": [
  {
   "cell_type": "code",
   "execution_count": 1,
   "metadata": {},
   "outputs": [],
   "source": [
    "import pandas as pd\n",
    "import seaborn as sns\n",
    "import matplotlib.pyplot as plt\n",
    "import numpy as np\n",
    "import prince\n",
    "from scipy.stats import f_oneway, ttest_ind, chi2_contingency, chisquare\n",
    "\n",
    "import warnings\n",
    "warnings.filterwarnings(\"ignore\")"
   ]
  },
  {
   "cell_type": "code",
   "execution_count": 2,
   "metadata": {},
   "outputs": [],
   "source": [
    "dataset = pd.read_csv(\"D:\\Book\\H1.csv\")"
   ]
  },
  {
   "cell_type": "code",
   "execution_count": 3,
   "metadata": {},
   "outputs": [],
   "source": [
    "#fill na with 0 for children\n",
    "dataset['Children'].fillna(0,inplace=True)\n",
    "monthmap = {'January':1, 'February':2, 'March':3, 'April':4, 'May':5, 'June':6,'July':7, 'August':8, 'September':9, 'October':10, 'November':11, 'December':12}\n",
    "dataset['ArrivalDateMonthNumber'] = dataset['ArrivalDateMonth'].map(monthmap)\n",
    "dataset['ArrivalDate'] = pd.to_datetime(dataset['ArrivalDateDayOfMonth'].astype(str) + '-' + dataset['ArrivalDateMonth'].astype(str) + '-'+ dataset['ArrivalDateYear'].astype(str))\n",
    "dataset['ReservationStatusDate']=pd.to_datetime(dataset['ReservationStatusDate'])\n",
    "\n",
    "dataset['CancelStatus'] = np.where(dataset['IsCanceled']==1,'Canceled','Not Canceled')"
   ]
  },
  {
   "cell_type": "code",
   "execution_count": 4,
   "metadata": {},
   "outputs": [],
   "source": [
    "#Remove cases where there are no guests. both adults and children is 0 and ADR less than or equal to 0.\n",
    "\n",
    "dataset=dataset[((dataset['Adults']>0) | (dataset['Children']>0)) &  (dataset['ADR']>0)]\n",
    "dataset.reset_index(inplace=True,drop=True)\n",
    "\n",
    "#country feature has few hundred missing values and hence we will remove from analysis.\n",
    "dataset.dropna(inplace=True)\n",
    "dataset.reset_index(inplace=True,drop=True)"
   ]
  },
  {
   "cell_type": "code",
   "execution_count": 5,
   "metadata": {},
   "outputs": [
    {
     "data": {
      "text/html": [
       "<div>\n",
       "<style scoped>\n",
       "    .dataframe tbody tr th:only-of-type {\n",
       "        vertical-align: middle;\n",
       "    }\n",
       "\n",
       "    .dataframe tbody tr th {\n",
       "        vertical-align: top;\n",
       "    }\n",
       "\n",
       "    .dataframe thead th {\n",
       "        text-align: right;\n",
       "    }\n",
       "</style>\n",
       "<table border=\"1\" class=\"dataframe\">\n",
       "  <thead>\n",
       "    <tr style=\"text-align: right;\">\n",
       "      <th></th>\n",
       "      <th>IsCanceled</th>\n",
       "      <th>LeadTime</th>\n",
       "      <th>ArrivalDateYear</th>\n",
       "      <th>ArrivalDateMonth</th>\n",
       "      <th>ArrivalDateWeekNumber</th>\n",
       "      <th>ArrivalDateDayOfMonth</th>\n",
       "      <th>StaysInWeekendNights</th>\n",
       "      <th>StaysInWeekNights</th>\n",
       "      <th>Adults</th>\n",
       "      <th>Children</th>\n",
       "      <th>Babies</th>\n",
       "      <th>Meal</th>\n",
       "      <th>Country</th>\n",
       "      <th>MarketSegment</th>\n",
       "    </tr>\n",
       "  </thead>\n",
       "  <tbody>\n",
       "    <tr>\n",
       "      <th>0</th>\n",
       "      <td>0</td>\n",
       "      <td>7</td>\n",
       "      <td>2015</td>\n",
       "      <td>July</td>\n",
       "      <td>27</td>\n",
       "      <td>1</td>\n",
       "      <td>0</td>\n",
       "      <td>1</td>\n",
       "      <td>1</td>\n",
       "      <td>0</td>\n",
       "      <td>0</td>\n",
       "      <td>BB</td>\n",
       "      <td>GBR</td>\n",
       "      <td>Direct</td>\n",
       "    </tr>\n",
       "    <tr>\n",
       "      <th>1</th>\n",
       "      <td>0</td>\n",
       "      <td>13</td>\n",
       "      <td>2015</td>\n",
       "      <td>July</td>\n",
       "      <td>27</td>\n",
       "      <td>1</td>\n",
       "      <td>0</td>\n",
       "      <td>1</td>\n",
       "      <td>1</td>\n",
       "      <td>0</td>\n",
       "      <td>0</td>\n",
       "      <td>BB</td>\n",
       "      <td>GBR</td>\n",
       "      <td>Corporate</td>\n",
       "    </tr>\n",
       "    <tr>\n",
       "      <th>2</th>\n",
       "      <td>0</td>\n",
       "      <td>14</td>\n",
       "      <td>2015</td>\n",
       "      <td>July</td>\n",
       "      <td>27</td>\n",
       "      <td>1</td>\n",
       "      <td>0</td>\n",
       "      <td>2</td>\n",
       "      <td>2</td>\n",
       "      <td>0</td>\n",
       "      <td>0</td>\n",
       "      <td>BB</td>\n",
       "      <td>GBR</td>\n",
       "      <td>Online TA</td>\n",
       "    </tr>\n",
       "    <tr>\n",
       "      <th>3</th>\n",
       "      <td>0</td>\n",
       "      <td>14</td>\n",
       "      <td>2015</td>\n",
       "      <td>July</td>\n",
       "      <td>27</td>\n",
       "      <td>1</td>\n",
       "      <td>0</td>\n",
       "      <td>2</td>\n",
       "      <td>2</td>\n",
       "      <td>0</td>\n",
       "      <td>0</td>\n",
       "      <td>BB</td>\n",
       "      <td>GBR</td>\n",
       "      <td>Online TA</td>\n",
       "    </tr>\n",
       "    <tr>\n",
       "      <th>4</th>\n",
       "      <td>0</td>\n",
       "      <td>0</td>\n",
       "      <td>2015</td>\n",
       "      <td>July</td>\n",
       "      <td>27</td>\n",
       "      <td>1</td>\n",
       "      <td>0</td>\n",
       "      <td>2</td>\n",
       "      <td>2</td>\n",
       "      <td>0</td>\n",
       "      <td>0</td>\n",
       "      <td>BB</td>\n",
       "      <td>PRT</td>\n",
       "      <td>Direct</td>\n",
       "    </tr>\n",
       "  </tbody>\n",
       "</table>\n",
       "</div>"
      ],
      "text/plain": [
       "   IsCanceled  LeadTime  ArrivalDateYear ArrivalDateMonth  \\\n",
       "0           0         7             2015             July   \n",
       "1           0        13             2015             July   \n",
       "2           0        14             2015             July   \n",
       "3           0        14             2015             July   \n",
       "4           0         0             2015             July   \n",
       "\n",
       "   ArrivalDateWeekNumber  ArrivalDateDayOfMonth  StaysInWeekendNights  \\\n",
       "0                     27                      1                     0   \n",
       "1                     27                      1                     0   \n",
       "2                     27                      1                     0   \n",
       "3                     27                      1                     0   \n",
       "4                     27                      1                     0   \n",
       "\n",
       "   StaysInWeekNights  Adults  Children  Babies       Meal Country  \\\n",
       "0                  1       1         0       0  BB            GBR   \n",
       "1                  1       1         0       0  BB            GBR   \n",
       "2                  2       2         0       0  BB            GBR   \n",
       "3                  2       2         0       0  BB            GBR   \n",
       "4                  2       2         0       0  BB            PRT   \n",
       "\n",
       "  MarketSegment  \n",
       "0        Direct  \n",
       "1     Corporate  \n",
       "2     Online TA  \n",
       "3     Online TA  \n",
       "4        Direct  "
      ]
     },
     "execution_count": 5,
     "metadata": {},
     "output_type": "execute_result"
    }
   ],
   "source": [
    "dataset[dataset.columns[0:14]].head()"
   ]
  },
  {
   "cell_type": "code",
   "execution_count": 6,
   "metadata": {},
   "outputs": [
    {
     "data": {
      "text/html": [
       "<div>\n",
       "<style scoped>\n",
       "    .dataframe tbody tr th:only-of-type {\n",
       "        vertical-align: middle;\n",
       "    }\n",
       "\n",
       "    .dataframe tbody tr th {\n",
       "        vertical-align: top;\n",
       "    }\n",
       "\n",
       "    .dataframe thead th {\n",
       "        text-align: right;\n",
       "    }\n",
       "</style>\n",
       "<table border=\"1\" class=\"dataframe\">\n",
       "  <thead>\n",
       "    <tr style=\"text-align: right;\">\n",
       "      <th></th>\n",
       "      <th>DistributionChannel</th>\n",
       "      <th>IsRepeatedGuest</th>\n",
       "      <th>PreviousCancellations</th>\n",
       "      <th>PreviousBookingsNotCanceled</th>\n",
       "      <th>ReservedRoomType</th>\n",
       "      <th>AssignedRoomType</th>\n",
       "      <th>BookingChanges</th>\n",
       "      <th>DepositType</th>\n",
       "      <th>Agent</th>\n",
       "      <th>Company</th>\n",
       "      <th>DaysInWaitingList</th>\n",
       "      <th>CustomerType</th>\n",
       "      <th>ADR</th>\n",
       "      <th>RequiredCarParkingSpaces</th>\n",
       "      <th>TotalOfSpecialRequests</th>\n",
       "      <th>ReservationStatus</th>\n",
       "      <th>ReservationStatusDate</th>\n",
       "      <th>ArrivalDateMonthNumber</th>\n",
       "      <th>ArrivalDate</th>\n",
       "      <th>CancelStatus</th>\n",
       "    </tr>\n",
       "  </thead>\n",
       "  <tbody>\n",
       "    <tr>\n",
       "      <th>0</th>\n",
       "      <td>Direct</td>\n",
       "      <td>0</td>\n",
       "      <td>0</td>\n",
       "      <td>0</td>\n",
       "      <td>A</td>\n",
       "      <td>C</td>\n",
       "      <td>0</td>\n",
       "      <td>No Deposit</td>\n",
       "      <td>NULL</td>\n",
       "      <td>NULL</td>\n",
       "      <td>0</td>\n",
       "      <td>Transient</td>\n",
       "      <td>75.0</td>\n",
       "      <td>0</td>\n",
       "      <td>0</td>\n",
       "      <td>Check-Out</td>\n",
       "      <td>2015-07-02</td>\n",
       "      <td>7</td>\n",
       "      <td>2015-07-01</td>\n",
       "      <td>Not Canceled</td>\n",
       "    </tr>\n",
       "    <tr>\n",
       "      <th>1</th>\n",
       "      <td>Corporate</td>\n",
       "      <td>0</td>\n",
       "      <td>0</td>\n",
       "      <td>0</td>\n",
       "      <td>A</td>\n",
       "      <td>A</td>\n",
       "      <td>0</td>\n",
       "      <td>No Deposit</td>\n",
       "      <td>304</td>\n",
       "      <td>NULL</td>\n",
       "      <td>0</td>\n",
       "      <td>Transient</td>\n",
       "      <td>75.0</td>\n",
       "      <td>0</td>\n",
       "      <td>0</td>\n",
       "      <td>Check-Out</td>\n",
       "      <td>2015-07-02</td>\n",
       "      <td>7</td>\n",
       "      <td>2015-07-01</td>\n",
       "      <td>Not Canceled</td>\n",
       "    </tr>\n",
       "    <tr>\n",
       "      <th>2</th>\n",
       "      <td>TA/TO</td>\n",
       "      <td>0</td>\n",
       "      <td>0</td>\n",
       "      <td>0</td>\n",
       "      <td>A</td>\n",
       "      <td>A</td>\n",
       "      <td>0</td>\n",
       "      <td>No Deposit</td>\n",
       "      <td>240</td>\n",
       "      <td>NULL</td>\n",
       "      <td>0</td>\n",
       "      <td>Transient</td>\n",
       "      <td>98.0</td>\n",
       "      <td>0</td>\n",
       "      <td>1</td>\n",
       "      <td>Check-Out</td>\n",
       "      <td>2015-07-03</td>\n",
       "      <td>7</td>\n",
       "      <td>2015-07-01</td>\n",
       "      <td>Not Canceled</td>\n",
       "    </tr>\n",
       "    <tr>\n",
       "      <th>3</th>\n",
       "      <td>TA/TO</td>\n",
       "      <td>0</td>\n",
       "      <td>0</td>\n",
       "      <td>0</td>\n",
       "      <td>A</td>\n",
       "      <td>A</td>\n",
       "      <td>0</td>\n",
       "      <td>No Deposit</td>\n",
       "      <td>240</td>\n",
       "      <td>NULL</td>\n",
       "      <td>0</td>\n",
       "      <td>Transient</td>\n",
       "      <td>98.0</td>\n",
       "      <td>0</td>\n",
       "      <td>1</td>\n",
       "      <td>Check-Out</td>\n",
       "      <td>2015-07-03</td>\n",
       "      <td>7</td>\n",
       "      <td>2015-07-01</td>\n",
       "      <td>Not Canceled</td>\n",
       "    </tr>\n",
       "    <tr>\n",
       "      <th>4</th>\n",
       "      <td>Direct</td>\n",
       "      <td>0</td>\n",
       "      <td>0</td>\n",
       "      <td>0</td>\n",
       "      <td>C</td>\n",
       "      <td>C</td>\n",
       "      <td>0</td>\n",
       "      <td>No Deposit</td>\n",
       "      <td>NULL</td>\n",
       "      <td>NULL</td>\n",
       "      <td>0</td>\n",
       "      <td>Transient</td>\n",
       "      <td>107.0</td>\n",
       "      <td>0</td>\n",
       "      <td>0</td>\n",
       "      <td>Check-Out</td>\n",
       "      <td>2015-07-03</td>\n",
       "      <td>7</td>\n",
       "      <td>2015-07-01</td>\n",
       "      <td>Not Canceled</td>\n",
       "    </tr>\n",
       "  </tbody>\n",
       "</table>\n",
       "</div>"
      ],
      "text/plain": [
       "  DistributionChannel  IsRepeatedGuest  PreviousCancellations  \\\n",
       "0              Direct                0                      0   \n",
       "1           Corporate                0                      0   \n",
       "2               TA/TO                0                      0   \n",
       "3               TA/TO                0                      0   \n",
       "4              Direct                0                      0   \n",
       "\n",
       "   PreviousBookingsNotCanceled  ReservedRoomType  AssignedRoomType  \\\n",
       "0                            0  A                 C                  \n",
       "1                            0  A                 A                  \n",
       "2                            0  A                 A                  \n",
       "3                            0  A                 A                  \n",
       "4                            0  C                 C                  \n",
       "\n",
       "   BookingChanges      DepositType        Agent      Company  \\\n",
       "0               0  No Deposit              NULL         NULL   \n",
       "1               0  No Deposit               304         NULL   \n",
       "2               0  No Deposit               240         NULL   \n",
       "3               0  No Deposit               240         NULL   \n",
       "4               0  No Deposit              NULL         NULL   \n",
       "\n",
       "   DaysInWaitingList CustomerType    ADR  RequiredCarParkingSpaces  \\\n",
       "0                  0    Transient   75.0                         0   \n",
       "1                  0    Transient   75.0                         0   \n",
       "2                  0    Transient   98.0                         0   \n",
       "3                  0    Transient   98.0                         0   \n",
       "4                  0    Transient  107.0                         0   \n",
       "\n",
       "   TotalOfSpecialRequests ReservationStatus ReservationStatusDate  \\\n",
       "0                       0         Check-Out            2015-07-02   \n",
       "1                       0         Check-Out            2015-07-02   \n",
       "2                       1         Check-Out            2015-07-03   \n",
       "3                       1         Check-Out            2015-07-03   \n",
       "4                       0         Check-Out            2015-07-03   \n",
       "\n",
       "   ArrivalDateMonthNumber ArrivalDate  CancelStatus  \n",
       "0                       7  2015-07-01  Not Canceled  \n",
       "1                       7  2015-07-01  Not Canceled  \n",
       "2                       7  2015-07-01  Not Canceled  \n",
       "3                       7  2015-07-01  Not Canceled  \n",
       "4                       7  2015-07-01  Not Canceled  "
      ]
     },
     "execution_count": 6,
     "metadata": {},
     "output_type": "execute_result"
    }
   ],
   "source": [
    "dataset[dataset.columns[14:]].head()"
   ]
  },
  {
   "cell_type": "code",
   "execution_count": 7,
   "metadata": {},
   "outputs": [],
   "source": [
    "#create booking date\n",
    "dataset['BookingDate'] = dataset['ArrivalDate'] - pd.to_timedelta(dataset['LeadTime'], unit='d')\n",
    "\n",
    "##dependent variable\n",
    "dependent_variable = 'IsCanceled'\n",
    "\n",
    "##list of numerical features\n",
    "numerical_features = ['LeadTime', 'StaysInWeekendNights', 'StaysInWeekNights', 'Adults', 'Children','Babies', 'PreviousCancellations','PreviousBookingsNotCanceled','BookingChanges','DaysInWaitingList','ADR',\n",
    "'TotalOfSpecialRequests']\n",
    "\n",
    "##list of categorical features\n",
    "categorical_features = ['Meal', 'Country', 'MarketSegment', 'DistributionChannel','ReservedRoomType', 'AssignedRoomType','DepositType', 'Agent', 'Company','CustomerType','RequiredCarParkingSpaces','ArrivalDateYear', 'ArrivalDateMonth','ArrivalDateWeekNumber', 'ArrivalDateDayOfMonth','IsRepeatedGuest']"
   ]
  },
  {
   "cell_type": "code",
   "execution_count": null,
   "metadata": {},
   "outputs": [],
   "source": []
  },
  {
   "cell_type": "code",
   "execution_count": 8,
   "metadata": {},
   "outputs": [
    {
     "data": {
      "text/plain": [
       "12"
      ]
     },
     "execution_count": 8,
     "metadata": {},
     "output_type": "execute_result"
    }
   ],
   "source": [
    "len(numerical_features)"
   ]
  },
  {
   "cell_type": "markdown",
   "metadata": {},
   "source": [
    "## Numerical Features"
   ]
  },
  {
   "cell_type": "code",
   "execution_count": 9,
   "metadata": {},
   "outputs": [],
   "source": [
    "def describe_stats(dataset,dependent_variable,numerical_feature_name):\n",
    "    #min,max,1%,5%,25%,50%,75%,95%,99%,max\n",
    "    result_dict={}\n",
    "    \n",
    "    index_list = ['Minimum','1%','5%','25%','Median','75%','95%','99%','Maximum']\n",
    "    \n",
    "    dataset_0 = dataset[dataset[dependent_variable]==0]\n",
    "    dataset_0.reset_index(inplace=True,drop=True)\n",
    "    \n",
    "    result_0_Minimum = dataset_0[numerical_feature_name].min()\n",
    "    result_0_1 = np.round(np.percentile(dataset_0[numerical_feature_name],1),2)\n",
    "    result_0_5 = np.round(np.percentile(dataset_0[numerical_feature_name],5),2)\n",
    "    result_0_25 = np.round(np.percentile(dataset_0[numerical_feature_name],25),2)\n",
    "    result_0_Median = np.round(np.percentile(dataset_0[numerical_feature_name],50),2)\n",
    "    result_0_75 = np.round(np.percentile(dataset_0[numerical_feature_name],75),2)\n",
    "    result_0_95 = np.round(np.percentile(dataset_0[numerical_feature_name],95),2)\n",
    "    result_0_99 = np.round(np.percentile(dataset_0[numerical_feature_name],99),2)\n",
    "    result_0_Maximum = dataset_0[numerical_feature_name].max()\n",
    "    list_0 = [result_0_Minimum,result_0_1,result_0_5,result_0_25,result_0_Median,result_0_75,result_0_95,result_0_99,result_0_Maximum]\n",
    "    \n",
    "    dataset_1 = dataset[dataset[dependent_variable]==1]\n",
    "    dataset_1.reset_index(inplace=True,drop=True)\n",
    "    result_1_Minimum = dataset_1[numerical_feature_name].min()\n",
    "    result_1_1 = np.round(np.percentile(dataset_1[numerical_feature_name],1),2)\n",
    "    result_1_5 = np.round(np.percentile(dataset_1[numerical_feature_name],5),2)\n",
    "    result_1_25 = np.round(np.percentile(dataset_1[numerical_feature_name],25),2)\n",
    "    result_1_Median = np.round(np.percentile(dataset_1[numerical_feature_name],50),2)\n",
    "    result_1_75 = np.round(np.percentile(dataset_1[numerical_feature_name],75),2)\n",
    "    result_1_95 = np.round(np.percentile(dataset_1[numerical_feature_name],95),2)\n",
    "    result_1_99 = np.round(np.percentile(dataset_1[numerical_feature_name],99),2)\n",
    "    result_1_Maximum = dataset_1[numerical_feature_name].max()\n",
    "    list_1 = [result_1_Minimum,result_1_1,result_1_5,result_1_25,result_1_Median,result_1_75,result_1_95,result_1_99,result_1_Maximum]\n",
    "    \n",
    "    dataResult = pd.DataFrame(data={'IsCanceledNo':list_0,'IsCanceledYes':list_1},index=index_list)    \n",
    "\n",
    "    return dataResult\n",
    "\n",
    "\n",
    "def four_plots(numerical_features):\n",
    "    \n",
    "    sns.set(rc={'figure.figsize':(20,20)})\n",
    "    sns.set(style=\"darkgrid\")\n",
    "    sns.set_context('paper', font_scale = 1.5)\n",
    "    \n",
    "    fig, axs = plt.subplots(ncols=2,nrows=2)\n",
    "    fig.subplots_adjust(hspace=0.3)\n",
    "\n",
    "    index = 0\n",
    "    for rows in range(2):\n",
    "        for columns in range(2):\n",
    "            if index < len(numerical_features):\n",
    "                desc_df = describe_stats(dataset,dependent_variable,numerical_features[index])\n",
    "                axes = axs[rows,columns]\n",
    "                axes.plot(desc_df.index.values,desc_df['IsCanceledNo'].values)#,marker='o',s = 50)\n",
    "                axes.plot(desc_df.index.values,desc_df['IsCanceledYes'].values)#,marker='o',s = 50)\n",
    "                axes.set_xticklabels(labels = desc_df.index,rotation=90)\n",
    "                axes.legend(('IsCanceledNo','IsCanceledYes'))#loc='lower right')\n",
    "                axes.set_title(numerical_features[index])\n",
    "            index+=1\n",
    "\n",
    "\n",
    "def one_plots(numerical_features):\n",
    "\n",
    "    \n",
    "    sns.set(rc={'figure.figsize':(8,8)})\n",
    "    sns.set(style=\"darkgrid\")\n",
    "    sns.set_context('paper', font_scale = 1.5)\n",
    "    \n",
    "    fig, axes = plt.subplots(ncols=1)\n",
    "    fig.subplots_adjust(hspace=0.3)\n",
    "\n",
    "    index = 0\n",
    "\n",
    "    desc_df = describe_stats(dataset,dependent_variable,numerical_features[index])\n",
    "#     axes = axs[0]\n",
    "    axes.plot(desc_df.index.values,desc_df['IsCanceledNo'].values)#,marker='o',s = 50)\n",
    "    axes.plot(desc_df.index.values,desc_df['IsCanceledYes'].values)#,marker='o',s = 50)\n",
    "    axes.set_xticklabels(labels = desc_df.index,rotation=90)\n",
    "    axes.legend(('IsCanceledNo','IsCanceledYes'))#loc='lower right')\n",
    "    axes.set_title(numerical_features[index])\n"
   ]
  },
  {
   "cell_type": "code",
   "execution_count": null,
   "metadata": {},
   "outputs": [],
   "source": []
  },
  {
   "cell_type": "code",
   "execution_count": 10,
   "metadata": {},
   "outputs": [
    {
     "data": {
      "image/png": "[encoded data removed]",
      "text/plain": [
       "<Figure size 640x480 with 12 Axes>"
      ]
     },
     "metadata": {},
     "output_type": "display_data"
    }
   ],
   "source": [
    "fig, axs = plt.subplots(ncols=4,nrows=3)\n",
    "fig.subplots_adjust(wspace=0.4,hspace=0.3)\n",
    "\n",
    "sns.set(rc={'figure.figsize':(16,12)})\n",
    "sns.set(style=\"darkgrid\")\n",
    "sns.set_context('paper', font_scale = 1.3)\n",
    "color = 'y'\n",
    "pal = {0:color,1:color}\n",
    "\n",
    "index = 0\n",
    "for rows in range(3):\n",
    "    for columns in range(4):\n",
    "        #bargraph of dependent variable\n",
    "        if index < len(numerical_features):\n",
    "            sns.boxplot(x = dependent_variable, y = numerical_features[index], data = dataset,palette=pal, ax=axs[rows,columns])\n",
    "            index+=1\n"
   ]
  },
  {
   "cell_type": "code",
   "execution_count": null,
   "metadata": {},
   "outputs": [],
   "source": []
  },
  {
   "cell_type": "code",
   "execution_count": 11,
   "metadata": {},
   "outputs": [
    {
     "data": {
      "text/html": [
       "<div>\n",
       "<style scoped>\n",
       "    .dataframe tbody tr th:only-of-type {\n",
       "        vertical-align: middle;\n",
       "    }\n",
       "\n",
       "    .dataframe tbody tr th {\n",
       "        vertical-align: top;\n",
       "    }\n",
       "\n",
       "    .dataframe thead th {\n",
       "        text-align: right;\n",
       "    }\n",
       "</style>\n",
       "<table border=\"1\" class=\"dataframe\">\n",
       "  <thead>\n",
       "    <tr style=\"text-align: right;\">\n",
       "      <th>LeadTime</th>\n",
       "      <th>0</th>\n",
       "      <th>1</th>\n",
       "      <th>2</th>\n",
       "      <th>3</th>\n",
       "      <th>4</th>\n",
       "      <th>5</th>\n",
       "      <th>6</th>\n",
       "      <th>7</th>\n",
       "      <th>8</th>\n",
       "      <th>9</th>\n",
       "      <th>...</th>\n",
       "      <th>445</th>\n",
       "      <th>450</th>\n",
       "      <th>454</th>\n",
       "      <th>460</th>\n",
       "      <th>462</th>\n",
       "      <th>468</th>\n",
       "      <th>471</th>\n",
       "      <th>532</th>\n",
       "      <th>542</th>\n",
       "      <th>709</th>\n",
       "    </tr>\n",
       "    <tr>\n",
       "      <th>IsCanceled</th>\n",
       "      <th></th>\n",
       "      <th></th>\n",
       "      <th></th>\n",
       "      <th></th>\n",
       "      <th></th>\n",
       "      <th></th>\n",
       "      <th></th>\n",
       "      <th></th>\n",
       "      <th></th>\n",
       "      <th></th>\n",
       "      <th></th>\n",
       "      <th></th>\n",
       "      <th></th>\n",
       "      <th></th>\n",
       "      <th></th>\n",
       "      <th></th>\n",
       "      <th></th>\n",
       "      <th></th>\n",
       "      <th></th>\n",
       "      <th></th>\n",
       "      <th></th>\n",
       "    </tr>\n",
       "  </thead>\n",
       "  <tbody>\n",
       "    <tr>\n",
       "      <th>0</th>\n",
       "      <td>2837</td>\n",
       "      <td>1382</td>\n",
       "      <td>796</td>\n",
       "      <td>693</td>\n",
       "      <td>582</td>\n",
       "      <td>506</td>\n",
       "      <td>458</td>\n",
       "      <td>489</td>\n",
       "      <td>308</td>\n",
       "      <td>284</td>\n",
       "      <td>...</td>\n",
       "      <td>3</td>\n",
       "      <td>0</td>\n",
       "      <td>1</td>\n",
       "      <td>3</td>\n",
       "      <td>0</td>\n",
       "      <td>17</td>\n",
       "      <td>0</td>\n",
       "      <td>1</td>\n",
       "      <td>22</td>\n",
       "      <td>1</td>\n",
       "    </tr>\n",
       "    <tr>\n",
       "      <th>1</th>\n",
       "      <td>143</td>\n",
       "      <td>85</td>\n",
       "      <td>84</td>\n",
       "      <td>61</td>\n",
       "      <td>40</td>\n",
       "      <td>50</td>\n",
       "      <td>34</td>\n",
       "      <td>51</td>\n",
       "      <td>56</td>\n",
       "      <td>64</td>\n",
       "      <td>...</td>\n",
       "      <td>0</td>\n",
       "      <td>1</td>\n",
       "      <td>0</td>\n",
       "      <td>0</td>\n",
       "      <td>20</td>\n",
       "      <td>28</td>\n",
       "      <td>6</td>\n",
       "      <td>0</td>\n",
       "      <td>0</td>\n",
       "      <td>0</td>\n",
       "    </tr>\n",
       "  </tbody>\n",
       "</table>\n",
       "<p>2 rows × 410 columns</p>\n",
       "</div>"
      ],
      "text/plain": [
       "LeadTime     0     1    2    3    4    5    6    7    8    9    ...  445  450  \\\n",
       "IsCanceled                                                      ...             \n",
       "0           2837  1382  796  693  582  506  458  489  308  284  ...    3    0   \n",
       "1            143    85   84   61   40   50   34   51   56   64  ...    0    1   \n",
       "\n",
       "LeadTime    454  460  462  468  471  532  542  709  \n",
       "IsCanceled                                          \n",
       "0             1    3    0   17    0    1   22    1  \n",
       "1             0    0   20   28    6    0    0    0  \n",
       "\n",
       "[2 rows x 410 columns]"
      ]
     },
     "execution_count": 11,
     "metadata": {},
     "output_type": "execute_result"
    }
   ],
   "source": [
    "pd.crosstab(dataset['IsCanceled'],dataset['LeadTime'])"
   ]
  },
  {
   "cell_type": "code",
   "execution_count": 12,
   "metadata": {},
   "outputs": [
    {
     "data": {
      "text/html": [
       "<div>\n",
       "<style scoped>\n",
       "    .dataframe tbody tr th:only-of-type {\n",
       "        vertical-align: middle;\n",
       "    }\n",
       "\n",
       "    .dataframe tbody tr th {\n",
       "        vertical-align: top;\n",
       "    }\n",
       "\n",
       "    .dataframe thead th {\n",
       "        text-align: right;\n",
       "    }\n",
       "</style>\n",
       "<table border=\"1\" class=\"dataframe\">\n",
       "  <thead>\n",
       "    <tr style=\"text-align: right;\">\n",
       "      <th>Children</th>\n",
       "      <th>0</th>\n",
       "      <th>1</th>\n",
       "      <th>2</th>\n",
       "      <th>3</th>\n",
       "      <th>10</th>\n",
       "    </tr>\n",
       "    <tr>\n",
       "      <th>IsCanceled</th>\n",
       "      <th></th>\n",
       "      <th></th>\n",
       "      <th></th>\n",
       "      <th></th>\n",
       "      <th></th>\n",
       "    </tr>\n",
       "  </thead>\n",
       "  <tbody>\n",
       "    <tr>\n",
       "      <th>0</th>\n",
       "      <td>25739</td>\n",
       "      <td>1252</td>\n",
       "      <td>855</td>\n",
       "      <td>15</td>\n",
       "      <td>0</td>\n",
       "    </tr>\n",
       "    <tr>\n",
       "      <th>1</th>\n",
       "      <td>9684</td>\n",
       "      <td>555</td>\n",
       "      <td>753</td>\n",
       "      <td>2</td>\n",
       "      <td>1</td>\n",
       "    </tr>\n",
       "  </tbody>\n",
       "</table>\n",
       "</div>"
      ],
      "text/plain": [
       "Children       0     1    2   3   10\n",
       "IsCanceled                          \n",
       "0           25739  1252  855  15   0\n",
       "1            9684   555  753   2   1"
      ]
     },
     "execution_count": 12,
     "metadata": {},
     "output_type": "execute_result"
    }
   ],
   "source": [
    "pd.crosstab(dataset['IsCanceled'],dataset['Children'])"
   ]
  },
  {
   "cell_type": "code",
   "execution_count": 13,
   "metadata": {},
   "outputs": [
    {
     "data": {
      "text/plain": [
       "1    132\n",
       "Name: IsCanceled, dtype: int64"
      ]
     },
     "execution_count": 13,
     "metadata": {},
     "output_type": "execute_result"
    }
   ],
   "source": [
    "dataset[dataset['PreviousCancellations']>5]['IsCanceled'].value_counts()"
   ]
  },
  {
   "cell_type": "code",
   "execution_count": 14,
   "metadata": {},
   "outputs": [
    {
     "data": {
      "text/plain": [
       "0    25\n",
       "1     1\n",
       "Name: IsCanceled, dtype: int64"
      ]
     },
     "execution_count": 14,
     "metadata": {},
     "output_type": "execute_result"
    }
   ],
   "source": [
    "dataset[dataset['PreviousBookingsNotCanceled']>14]['IsCanceled'].value_counts()"
   ]
  },
  {
   "cell_type": "code",
   "execution_count": 15,
   "metadata": {},
   "outputs": [
    {
     "data": {
      "text/plain": [
       "0    74\n",
       "1     1\n",
       "Name: IsCanceled, dtype: int64"
      ]
     },
     "execution_count": 15,
     "metadata": {},
     "output_type": "execute_result"
    }
   ],
   "source": [
    "dataset[dataset['DaysInWaitingList']>121]['IsCanceled'].value_counts()"
   ]
  },
  {
   "cell_type": "code",
   "execution_count": 16,
   "metadata": {},
   "outputs": [
    {
     "data": {
      "text/html": [
       "<div>\n",
       "<style scoped>\n",
       "    .dataframe tbody tr th:only-of-type {\n",
       "        vertical-align: middle;\n",
       "    }\n",
       "\n",
       "    .dataframe tbody tr th {\n",
       "        vertical-align: top;\n",
       "    }\n",
       "\n",
       "    .dataframe thead th {\n",
       "        text-align: right;\n",
       "    }\n",
       "</style>\n",
       "<table border=\"1\" class=\"dataframe\">\n",
       "  <thead>\n",
       "    <tr style=\"text-align: right;\">\n",
       "      <th>TotalOfSpecialRequests</th>\n",
       "      <th>0</th>\n",
       "      <th>1</th>\n",
       "      <th>2</th>\n",
       "      <th>3</th>\n",
       "      <th>4</th>\n",
       "      <th>5</th>\n",
       "    </tr>\n",
       "    <tr>\n",
       "      <th>IsCanceled</th>\n",
       "      <th></th>\n",
       "      <th></th>\n",
       "      <th></th>\n",
       "      <th></th>\n",
       "      <th></th>\n",
       "      <th></th>\n",
       "    </tr>\n",
       "  </thead>\n",
       "  <tbody>\n",
       "    <tr>\n",
       "      <th>0</th>\n",
       "      <td>14464</td>\n",
       "      <td>8956</td>\n",
       "      <td>3583</td>\n",
       "      <td>720</td>\n",
       "      <td>126</td>\n",
       "      <td>12</td>\n",
       "    </tr>\n",
       "    <tr>\n",
       "      <th>1</th>\n",
       "      <td>7117</td>\n",
       "      <td>2581</td>\n",
       "      <td>1118</td>\n",
       "      <td>164</td>\n",
       "      <td>15</td>\n",
       "      <td>0</td>\n",
       "    </tr>\n",
       "  </tbody>\n",
       "</table>\n",
       "</div>"
      ],
      "text/plain": [
       "TotalOfSpecialRequests      0     1     2    3    4   5\n",
       "IsCanceled                                             \n",
       "0                       14464  8956  3583  720  126  12\n",
       "1                        7117  2581  1118  164   15   0"
      ]
     },
     "execution_count": 16,
     "metadata": {},
     "output_type": "execute_result"
    }
   ],
   "source": [
    "pd.crosstab(dataset['IsCanceled'],dataset['TotalOfSpecialRequests'])"
   ]
  },
  {
   "cell_type": "code",
   "execution_count": 17,
   "metadata": {},
   "outputs": [
    {
     "data": {
      "image/png": "[encoded data removed]",
      "text/plain": [
       "<Figure size 800x800 with 1 Axes>"
      ]
     },
     "metadata": {},
     "output_type": "display_data"
    }
   ],
   "source": [
    "one_plots([numerical_features[0]])"
   ]
  },
  {
   "cell_type": "code",
   "execution_count": 18,
   "metadata": {},
   "outputs": [
    {
     "data": {
      "image/png": "[encoded data removed]",
      "text/plain": [
       "<Figure size 800x800 with 1 Axes>"
      ]
     },
     "metadata": {},
     "output_type": "display_data"
    }
   ],
   "source": [
    "one_plots([numerical_features[-2]])"
   ]
  },
  {
   "cell_type": "code",
   "execution_count": 19,
   "metadata": {},
   "outputs": [],
   "source": [
    "\n",
    "#children is more than 3\n",
    "dataset['ChildrenMoreThan3']=np.where(dataset['Children']>3,1,0)\n",
    "\n",
    "#more than 5 cancellations by the same guest in the past\n",
    "dataset['PreviousCancellationsMoreThan5']=np.where(dataset['PreviousCancellations']>5,1,0)\n",
    "\n",
    "#did not cancel more than 14 times in the past\n",
    "dataset['PreviousBookingsNotCanceledMoreThan14']=np.where(dataset['PreviousBookingsNotCanceled']>14,1,0)\n",
    "\n",
    "#waiting list for more than 121 days\n",
    "dataset['DaysInWaitingListMoreThan121']=np.where(dataset['DaysInWaitingList']>121,1,0)\n",
    "\n",
    "#more than 4 special requests\n",
    "dataset['TotalOfSpecialRequestsMoreThan4']=np.where(dataset['TotalOfSpecialRequests']>4,1,0)"
   ]
  },
  {
   "cell_type": "code",
   "execution_count": 20,
   "metadata": {},
   "outputs": [
    {
     "data": {
      "text/plain": [
       "5"
      ]
     },
     "execution_count": 20,
     "metadata": {},
     "output_type": "execute_result"
    }
   ],
   "source": [
    "new_categoricalfeatures = ['ChildrenMoreThan3','PreviousCancellationsMoreThan5','PreviousBookingsNotCanceledMoreThan14','DaysInWaitingListMoreThan121','TotalOfSpecialRequestsMoreThan4']\n",
    "len(new_categoricalfeatures)"
   ]
  },
  {
   "cell_type": "code",
   "execution_count": 21,
   "metadata": {},
   "outputs": [
    {
     "name": "stdout",
     "output_type": "stream",
     "text": [
      "p value is 0.6299283829983215\n",
      "Accept null hypothesis! There is no relationship between two variables.\n"
     ]
    }
   ],
   "source": [
    "### ChildrenMoreThan3\n",
    "\n",
    "stat, p, dof, expected=chi2_contingency(pd.crosstab(dataset['ChildrenMoreThan3'], dataset['CancelStatus']))\n",
    "alpha = 0.05\n",
    "print(\"p value is \" + str(np.format_float_positional(p, trim='-')))\n",
    "if round(p,2) <= alpha:\n",
    "    print('Reject null hypothesis! There is relationship between two variables and the feature is useful.')\n",
    "else:\n",
    "    print('Accept null hypothesis! There is no relationship between two variables.')"
   ]
  },
  {
   "cell_type": "code",
   "execution_count": 22,
   "metadata": {},
   "outputs": [
    {
     "name": "stdout",
     "output_type": "stream",
     "text": [
      "p value is 0.000000000000000000000000000000000000000000000000000000000000000000000000033737971571403955\n",
      "Reject null hypothesis! There is relationship between two variables and the feature is useful.\n"
     ]
    }
   ],
   "source": [
    "### PreviousCancellationsMoreThan5\n",
    "\n",
    "stat, p, dof, expected=chi2_contingency(pd.crosstab(dataset['PreviousCancellationsMoreThan5'], dataset['CancelStatus']))\n",
    "alpha = 0.05\n",
    "print(\"p value is \" + str(np.format_float_positional(p, trim='-')))\n",
    "if round(p,2) <= alpha:\n",
    "    print('Reject null hypothesis! There is relationship between two variables and the feature is useful.')\n",
    "else:\n",
    "    print('Accept null hypothesis! There is no relationship between two variables.')"
   ]
  },
  {
   "cell_type": "code",
   "execution_count": 23,
   "metadata": {},
   "outputs": [
    {
     "name": "stdout",
     "output_type": "stream",
     "text": [
      "p value is 0.010741832089281714\n",
      "Reject null hypothesis! There is relationship between two variables and the feature is useful.\n"
     ]
    }
   ],
   "source": [
    "### PreviousBookingsNotCanceledMoreThan14\n",
    "\n",
    "stat, p, dof, expected=chi2_contingency(pd.crosstab(dataset['PreviousBookingsNotCanceledMoreThan14'], dataset['CancelStatus']))\n",
    "alpha = 0.05\n",
    "print(\"p value is \" + str(np.format_float_positional(p, trim='-')))\n",
    "if round(p,2) <= alpha:\n",
    "    print('Reject null hypothesis! There is relationship between two variables and the feature is useful.')\n",
    "else:\n",
    "    print('Accept null hypothesis! There is no relationship between two variables.')"
   ]
  },
  {
   "cell_type": "code",
   "execution_count": 24,
   "metadata": {},
   "outputs": [
    {
     "name": "stdout",
     "output_type": "stream",
     "text": [
      "p value is 0.0000004176073675972267\n",
      "Reject null hypothesis! There is relationship between two variables and the feature is useful.\n"
     ]
    }
   ],
   "source": [
    "### DaysInWaitingListMoreThan121\n",
    "\n",
    "stat, p, dof, expected=chi2_contingency(pd.crosstab(dataset['DaysInWaitingListMoreThan121'], dataset['CancelStatus']))\n",
    "alpha = 0.05\n",
    "print(\"p value is \" + str(np.format_float_positional(p, trim='-')))\n",
    "if round(p,2) <= alpha:\n",
    "    print('Reject null hypothesis! There is relationship between two variables and the feature is useful.')\n",
    "else:\n",
    "    print('Accept null hypothesis! There is no relationship between two variables.')"
   ]
  },
  {
   "cell_type": "code",
   "execution_count": 25,
   "metadata": {},
   "outputs": [
    {
     "name": "stdout",
     "output_type": "stream",
     "text": [
      "p value is 0.0634527324644697\n",
      "Accept null hypothesis! There is no relationship between two variables.\n"
     ]
    }
   ],
   "source": [
    "### TotalOfSpecialRequestsMoreThan4\n",
    "\n",
    "stat, p, dof, expected=chi2_contingency(pd.crosstab(dataset['TotalOfSpecialRequestsMoreThan4'], dataset['CancelStatus']))\n",
    "alpha = 0.05\n",
    "print(\"p value is \" + str(np.format_float_positional(p, trim='-')))\n",
    "if round(p,2) <= alpha:\n",
    "    print('Reject null hypothesis! There is relationship between two variables and the feature is useful.')\n",
    "else:\n",
    "    print('Accept null hypothesis! There is no relationship between two variables.')"
   ]
  },
  {
   "cell_type": "code",
   "execution_count": null,
   "metadata": {},
   "outputs": [],
   "source": []
  },
  {
   "cell_type": "markdown",
   "metadata": {},
   "source": [
    "### Categorical\n",
    "\n",
    "- Lets identify features which has categories more than 50% for both class of dependent variable"
   ]
  },
  {
   "cell_type": "code",
   "execution_count": 26,
   "metadata": {},
   "outputs": [],
   "source": [
    "def find_categories(dataset,categorical_features,index):\n",
    "    crosstab = np.round(pd.crosstab(dataset[categorical_features[index]],dataset['IsCanceled'], normalize='index')*100)\n",
    "    zero = crosstab[crosstab[0]>50].shape[0]\n",
    "    one = crosstab[crosstab[1]>50].shape[0]\n",
    "    return (zero >= 1 and one >= 1 and dataset[categorical_features[index]].nunique()>2)"
   ]
  },
  {
   "cell_type": "code",
   "execution_count": 27,
   "metadata": {},
   "outputs": [
    {
     "name": "stdout",
     "output_type": "stream",
     "text": [
      "Feature Meal of index:0 has categories more than 50% for both class of dependent variable\n",
      "Feature Country of index:1 has categories more than 50% for both class of dependent variable\n",
      "Feature AssignedRoomType of index:5 has categories more than 50% for both class of dependent variable\n",
      "Feature DepositType of index:6 has categories more than 50% for both class of dependent variable\n",
      "Feature Agent of index:7 has categories more than 50% for both class of dependent variable\n",
      "Feature Company of index:8 has categories more than 50% for both class of dependent variable\n"
     ]
    }
   ],
   "source": [
    "for index in range(len(categorical_features)):\n",
    "    if find_categories(dataset,categorical_features,index):\n",
    "        print('Feature',categorical_features[index],'of index:'+str(index),'has categories more than 50% for both class of dependent variable')"
   ]
  },
  {
   "cell_type": "code",
   "execution_count": 28,
   "metadata": {},
   "outputs": [
    {
     "data": {
      "text/html": [
       "<div>\n",
       "<style scoped>\n",
       "    .dataframe tbody tr th:only-of-type {\n",
       "        vertical-align: middle;\n",
       "    }\n",
       "\n",
       "    .dataframe tbody tr th {\n",
       "        vertical-align: top;\n",
       "    }\n",
       "\n",
       "    .dataframe thead th {\n",
       "        text-align: right;\n",
       "    }\n",
       "</style>\n",
       "<table border=\"1\" class=\"dataframe\">\n",
       "  <thead>\n",
       "    <tr style=\"text-align: right;\">\n",
       "      <th>CancelStatus</th>\n",
       "      <th>Canceled</th>\n",
       "      <th>Not Canceled</th>\n",
       "    </tr>\n",
       "    <tr>\n",
       "      <th>Meal</th>\n",
       "      <th></th>\n",
       "      <th></th>\n",
       "    </tr>\n",
       "  </thead>\n",
       "  <tbody>\n",
       "    <tr>\n",
       "      <th>BB</th>\n",
       "      <td>7737</td>\n",
       "      <td>21296</td>\n",
       "    </tr>\n",
       "    <tr>\n",
       "      <th>FB</th>\n",
       "      <td>442</td>\n",
       "      <td>303</td>\n",
       "    </tr>\n",
       "    <tr>\n",
       "      <th>HB</th>\n",
       "      <td>2532</td>\n",
       "      <td>5395</td>\n",
       "    </tr>\n",
       "    <tr>\n",
       "      <th>SC</th>\n",
       "      <td>0</td>\n",
       "      <td>23</td>\n",
       "    </tr>\n",
       "    <tr>\n",
       "      <th>Undefined</th>\n",
       "      <td>284</td>\n",
       "      <td>844</td>\n",
       "    </tr>\n",
       "  </tbody>\n",
       "</table>\n",
       "</div>"
      ],
      "text/plain": [
       "CancelStatus  Canceled  Not Canceled\n",
       "Meal                                \n",
       "BB                7737         21296\n",
       "FB                 442           303\n",
       "HB                2532          5395\n",
       "SC                   0            23\n",
       "Undefined          284           844"
      ]
     },
     "execution_count": 28,
     "metadata": {},
     "output_type": "execute_result"
    }
   ],
   "source": [
    "index = 0\n",
    "pd.crosstab(dataset[categorical_features[index]],dataset['CancelStatus'])"
   ]
  },
  {
   "cell_type": "code",
   "execution_count": 29,
   "metadata": {},
   "outputs": [
    {
     "data": {
      "text/html": [
       "<div>\n",
       "<style scoped>\n",
       "    .dataframe tbody tr th:only-of-type {\n",
       "        vertical-align: middle;\n",
       "    }\n",
       "\n",
       "    .dataframe tbody tr th {\n",
       "        vertical-align: top;\n",
       "    }\n",
       "\n",
       "    .dataframe thead th {\n",
       "        text-align: right;\n",
       "    }\n",
       "</style>\n",
       "<table border=\"1\" class=\"dataframe\">\n",
       "  <thead>\n",
       "    <tr style=\"text-align: right;\">\n",
       "      <th>CancelStatus</th>\n",
       "      <th>Canceled</th>\n",
       "      <th>Not Canceled</th>\n",
       "    </tr>\n",
       "    <tr>\n",
       "      <th>Country</th>\n",
       "      <th></th>\n",
       "      <th></th>\n",
       "    </tr>\n",
       "  </thead>\n",
       "  <tbody>\n",
       "    <tr>\n",
       "      <th>AGO</th>\n",
       "      <td>7</td>\n",
       "      <td>15</td>\n",
       "    </tr>\n",
       "    <tr>\n",
       "      <th>ALB</th>\n",
       "      <td>1</td>\n",
       "      <td>2</td>\n",
       "    </tr>\n",
       "    <tr>\n",
       "      <th>AND</th>\n",
       "      <td>3</td>\n",
       "      <td>2</td>\n",
       "    </tr>\n",
       "    <tr>\n",
       "      <th>ARE</th>\n",
       "      <td>8</td>\n",
       "      <td>3</td>\n",
       "    </tr>\n",
       "    <tr>\n",
       "      <th>ARG</th>\n",
       "      <td>9</td>\n",
       "      <td>48</td>\n",
       "    </tr>\n",
       "    <tr>\n",
       "      <th>...</th>\n",
       "      <td>...</td>\n",
       "      <td>...</td>\n",
       "    </tr>\n",
       "    <tr>\n",
       "      <th>VEN</th>\n",
       "      <td>1</td>\n",
       "      <td>2</td>\n",
       "    </tr>\n",
       "    <tr>\n",
       "      <th>VNM</th>\n",
       "      <td>0</td>\n",
       "      <td>2</td>\n",
       "    </tr>\n",
       "    <tr>\n",
       "      <th>ZAF</th>\n",
       "      <td>5</td>\n",
       "      <td>13</td>\n",
       "    </tr>\n",
       "    <tr>\n",
       "      <th>ZMB</th>\n",
       "      <td>0</td>\n",
       "      <td>1</td>\n",
       "    </tr>\n",
       "    <tr>\n",
       "      <th>ZWE</th>\n",
       "      <td>0</td>\n",
       "      <td>2</td>\n",
       "    </tr>\n",
       "  </tbody>\n",
       "</table>\n",
       "<p>124 rows × 2 columns</p>\n",
       "</div>"
      ],
      "text/plain": [
       "CancelStatus  Canceled  Not Canceled\n",
       "Country                             \n",
       "AGO                  7            15\n",
       "ALB                  1             2\n",
       "AND                  3             2\n",
       "ARE                  8             3\n",
       "ARG                  9            48\n",
       "...                ...           ...\n",
       "VEN                  1             2\n",
       "VNM                  0             2\n",
       "ZAF                  5            13\n",
       "ZMB                  0             1\n",
       "ZWE                  0             2\n",
       "\n",
       "[124 rows x 2 columns]"
      ]
     },
     "execution_count": 29,
     "metadata": {},
     "output_type": "execute_result"
    }
   ],
   "source": [
    "index = 1\n",
    "pd.crosstab(dataset[categorical_features[index]],dataset['CancelStatus'])"
   ]
  },
  {
   "cell_type": "code",
   "execution_count": 30,
   "metadata": {},
   "outputs": [
    {
     "data": {
      "text/html": [
       "<div>\n",
       "<style scoped>\n",
       "    .dataframe tbody tr th:only-of-type {\n",
       "        vertical-align: middle;\n",
       "    }\n",
       "\n",
       "    .dataframe tbody tr th {\n",
       "        vertical-align: top;\n",
       "    }\n",
       "\n",
       "    .dataframe thead th {\n",
       "        text-align: right;\n",
       "    }\n",
       "</style>\n",
       "<table border=\"1\" class=\"dataframe\">\n",
       "  <thead>\n",
       "    <tr style=\"text-align: right;\">\n",
       "      <th>CancelStatus</th>\n",
       "      <th>Canceled</th>\n",
       "      <th>Not Canceled</th>\n",
       "    </tr>\n",
       "    <tr>\n",
       "      <th>AssignedRoomType</th>\n",
       "      <th></th>\n",
       "      <th></th>\n",
       "    </tr>\n",
       "  </thead>\n",
       "  <tbody>\n",
       "    <tr>\n",
       "      <th>A</th>\n",
       "      <td>5971</td>\n",
       "      <td>10688</td>\n",
       "    </tr>\n",
       "    <tr>\n",
       "      <th>B</th>\n",
       "      <td>9</td>\n",
       "      <td>145</td>\n",
       "    </tr>\n",
       "    <tr>\n",
       "      <th>C</th>\n",
       "      <td>424</td>\n",
       "      <td>1734</td>\n",
       "    </tr>\n",
       "    <tr>\n",
       "      <th>D</th>\n",
       "      <td>2070</td>\n",
       "      <td>7983</td>\n",
       "    </tr>\n",
       "    <tr>\n",
       "      <th>E</th>\n",
       "      <td>1416</td>\n",
       "      <td>4088</td>\n",
       "    </tr>\n",
       "    <tr>\n",
       "      <th>F</th>\n",
       "      <td>201</td>\n",
       "      <td>1469</td>\n",
       "    </tr>\n",
       "    <tr>\n",
       "      <th>G</th>\n",
       "      <td>648</td>\n",
       "      <td>1154</td>\n",
       "    </tr>\n",
       "    <tr>\n",
       "      <th>H</th>\n",
       "      <td>251</td>\n",
       "      <td>445</td>\n",
       "    </tr>\n",
       "    <tr>\n",
       "      <th>I</th>\n",
       "      <td>4</td>\n",
       "      <td>155</td>\n",
       "    </tr>\n",
       "    <tr>\n",
       "      <th>L</th>\n",
       "      <td>1</td>\n",
       "      <td>0</td>\n",
       "    </tr>\n",
       "  </tbody>\n",
       "</table>\n",
       "</div>"
      ],
      "text/plain": [
       "CancelStatus      Canceled  Not Canceled\n",
       "AssignedRoomType                        \n",
       "A                     5971         10688\n",
       "B                        9           145\n",
       "C                      424          1734\n",
       "D                     2070          7983\n",
       "E                     1416          4088\n",
       "F                      201          1469\n",
       "G                      648          1154\n",
       "H                      251           445\n",
       "I                        4           155\n",
       "L                        1             0"
      ]
     },
     "execution_count": 30,
     "metadata": {},
     "output_type": "execute_result"
    }
   ],
   "source": [
    "#negligible class difference, consideriing category 'L' has only 1 value. Hence excluded from further analysis\n",
    "index = 5\n",
    "pd.crosstab(dataset[categorical_features[index]],dataset['CancelStatus'])"
   ]
  },
  {
   "cell_type": "code",
   "execution_count": 31,
   "metadata": {},
   "outputs": [
    {
     "data": {
      "text/html": [
       "<div>\n",
       "<style scoped>\n",
       "    .dataframe tbody tr th:only-of-type {\n",
       "        vertical-align: middle;\n",
       "    }\n",
       "\n",
       "    .dataframe tbody tr th {\n",
       "        vertical-align: top;\n",
       "    }\n",
       "\n",
       "    .dataframe thead th {\n",
       "        text-align: right;\n",
       "    }\n",
       "</style>\n",
       "<table border=\"1\" class=\"dataframe\">\n",
       "  <thead>\n",
       "    <tr style=\"text-align: right;\">\n",
       "      <th>CancelStatus</th>\n",
       "      <th>Canceled</th>\n",
       "      <th>Not Canceled</th>\n",
       "    </tr>\n",
       "    <tr>\n",
       "      <th>DepositType</th>\n",
       "      <th></th>\n",
       "      <th></th>\n",
       "    </tr>\n",
       "  </thead>\n",
       "  <tbody>\n",
       "    <tr>\n",
       "      <th>No Deposit</th>\n",
       "      <td>9323</td>\n",
       "      <td>27672</td>\n",
       "    </tr>\n",
       "    <tr>\n",
       "      <th>Non Refund</th>\n",
       "      <td>1650</td>\n",
       "      <td>69</td>\n",
       "    </tr>\n",
       "    <tr>\n",
       "      <th>Refundable</th>\n",
       "      <td>22</td>\n",
       "      <td>120</td>\n",
       "    </tr>\n",
       "  </tbody>\n",
       "</table>\n",
       "</div>"
      ],
      "text/plain": [
       "CancelStatus     Canceled  Not Canceled\n",
       "DepositType                            \n",
       "No Deposit           9323         27672\n",
       "Non Refund           1650            69\n",
       "Refundable             22           120"
      ]
     },
     "execution_count": 31,
     "metadata": {},
     "output_type": "execute_result"
    }
   ],
   "source": [
    "index = 6\n",
    "pd.crosstab(dataset[categorical_features[index]],dataset['CancelStatus'])"
   ]
  },
  {
   "cell_type": "code",
   "execution_count": 32,
   "metadata": {},
   "outputs": [
    {
     "data": {
      "text/html": [
       "<div>\n",
       "<style scoped>\n",
       "    .dataframe tbody tr th:only-of-type {\n",
       "        vertical-align: middle;\n",
       "    }\n",
       "\n",
       "    .dataframe tbody tr th {\n",
       "        vertical-align: top;\n",
       "    }\n",
       "\n",
       "    .dataframe thead th {\n",
       "        text-align: right;\n",
       "    }\n",
       "</style>\n",
       "<table border=\"1\" class=\"dataframe\">\n",
       "  <thead>\n",
       "    <tr style=\"text-align: right;\">\n",
       "      <th>CancelStatus</th>\n",
       "      <th>Canceled</th>\n",
       "      <th>Not Canceled</th>\n",
       "    </tr>\n",
       "    <tr>\n",
       "      <th>Agent</th>\n",
       "      <th></th>\n",
       "      <th></th>\n",
       "    </tr>\n",
       "  </thead>\n",
       "  <tbody>\n",
       "    <tr>\n",
       "      <th>1</th>\n",
       "      <td>50</td>\n",
       "      <td>4</td>\n",
       "    </tr>\n",
       "    <tr>\n",
       "      <th>2</th>\n",
       "      <td>7</td>\n",
       "      <td>95</td>\n",
       "    </tr>\n",
       "    <tr>\n",
       "      <th>3</th>\n",
       "      <td>4</td>\n",
       "      <td>24</td>\n",
       "    </tr>\n",
       "    <tr>\n",
       "      <th>5</th>\n",
       "      <td>47</td>\n",
       "      <td>176</td>\n",
       "    </tr>\n",
       "    <tr>\n",
       "      <th>6</th>\n",
       "      <td>54</td>\n",
       "      <td>534</td>\n",
       "    </tr>\n",
       "    <tr>\n",
       "      <th>...</th>\n",
       "      <td>...</td>\n",
       "      <td>...</td>\n",
       "    </tr>\n",
       "    <tr>\n",
       "      <th>526</th>\n",
       "      <td>1</td>\n",
       "      <td>9</td>\n",
       "    </tr>\n",
       "    <tr>\n",
       "      <th>527</th>\n",
       "      <td>0</td>\n",
       "      <td>35</td>\n",
       "    </tr>\n",
       "    <tr>\n",
       "      <th>531</th>\n",
       "      <td>46</td>\n",
       "      <td>21</td>\n",
       "    </tr>\n",
       "    <tr>\n",
       "      <th>535</th>\n",
       "      <td>0</td>\n",
       "      <td>3</td>\n",
       "    </tr>\n",
       "    <tr>\n",
       "      <th>NULL</th>\n",
       "      <td>1343</td>\n",
       "      <td>6209</td>\n",
       "    </tr>\n",
       "  </tbody>\n",
       "</table>\n",
       "<p>183 rows × 2 columns</p>\n",
       "</div>"
      ],
      "text/plain": [
       "CancelStatus  Canceled  Not Canceled\n",
       "Agent                               \n",
       "          1         50             4\n",
       "          2          7            95\n",
       "          3          4            24\n",
       "          5         47           176\n",
       "          6         54           534\n",
       "...                ...           ...\n",
       "        526          1             9\n",
       "        527          0            35\n",
       "        531         46            21\n",
       "        535          0             3\n",
       "       NULL       1343          6209\n",
       "\n",
       "[183 rows x 2 columns]"
      ]
     },
     "execution_count": 32,
     "metadata": {},
     "output_type": "execute_result"
    }
   ],
   "source": [
    "index = 7\n",
    "pd.crosstab(dataset[categorical_features[index]],dataset['CancelStatus'])"
   ]
  },
  {
   "cell_type": "code",
   "execution_count": 33,
   "metadata": {},
   "outputs": [
    {
     "data": {
      "text/html": [
       "<div>\n",
       "<style scoped>\n",
       "    .dataframe tbody tr th:only-of-type {\n",
       "        vertical-align: middle;\n",
       "    }\n",
       "\n",
       "    .dataframe tbody tr th {\n",
       "        vertical-align: top;\n",
       "    }\n",
       "\n",
       "    .dataframe thead th {\n",
       "        text-align: right;\n",
       "    }\n",
       "</style>\n",
       "<table border=\"1\" class=\"dataframe\">\n",
       "  <thead>\n",
       "    <tr style=\"text-align: right;\">\n",
       "      <th>CancelStatus</th>\n",
       "      <th>Canceled</th>\n",
       "      <th>Not Canceled</th>\n",
       "    </tr>\n",
       "    <tr>\n",
       "      <th>Company</th>\n",
       "      <th></th>\n",
       "      <th></th>\n",
       "    </tr>\n",
       "  </thead>\n",
       "  <tbody>\n",
       "    <tr>\n",
       "      <th>6</th>\n",
       "      <td>0</td>\n",
       "      <td>1</td>\n",
       "    </tr>\n",
       "    <tr>\n",
       "      <th>9</th>\n",
       "      <td>2</td>\n",
       "      <td>10</td>\n",
       "    </tr>\n",
       "    <tr>\n",
       "      <th>10</th>\n",
       "      <td>0</td>\n",
       "      <td>1</td>\n",
       "    </tr>\n",
       "    <tr>\n",
       "      <th>12</th>\n",
       "      <td>0</td>\n",
       "      <td>13</td>\n",
       "    </tr>\n",
       "    <tr>\n",
       "      <th>14</th>\n",
       "      <td>0</td>\n",
       "      <td>2</td>\n",
       "    </tr>\n",
       "    <tr>\n",
       "      <th>...</th>\n",
       "      <td>...</td>\n",
       "      <td>...</td>\n",
       "    </tr>\n",
       "    <tr>\n",
       "      <th>534</th>\n",
       "      <td>0</td>\n",
       "      <td>2</td>\n",
       "    </tr>\n",
       "    <tr>\n",
       "      <th>539</th>\n",
       "      <td>0</td>\n",
       "      <td>2</td>\n",
       "    </tr>\n",
       "    <tr>\n",
       "      <th>541</th>\n",
       "      <td>0</td>\n",
       "      <td>1</td>\n",
       "    </tr>\n",
       "    <tr>\n",
       "      <th>543</th>\n",
       "      <td>2</td>\n",
       "      <td>0</td>\n",
       "    </tr>\n",
       "    <tr>\n",
       "      <th>NULL</th>\n",
       "      <td>10611</td>\n",
       "      <td>25390</td>\n",
       "    </tr>\n",
       "  </tbody>\n",
       "</table>\n",
       "<p>230 rows × 2 columns</p>\n",
       "</div>"
      ],
      "text/plain": [
       "CancelStatus  Canceled  Not Canceled\n",
       "Company                             \n",
       "          6          0             1\n",
       "          9          2            10\n",
       "         10          0             1\n",
       "         12          0            13\n",
       "         14          0             2\n",
       "...                ...           ...\n",
       "        534          0             2\n",
       "        539          0             2\n",
       "        541          0             1\n",
       "        543          2             0\n",
       "       NULL      10611         25390\n",
       "\n",
       "[230 rows x 2 columns]"
      ]
     },
     "execution_count": 33,
     "metadata": {},
     "output_type": "execute_result"
    }
   ],
   "source": [
    "#too many cateog\n",
    "index = 8\n",
    "pd.crosstab(dataset[categorical_features[index]],dataset['CancelStatus'])"
   ]
  },
  {
   "cell_type": "code",
   "execution_count": 34,
   "metadata": {},
   "outputs": [],
   "source": [
    "def recode_categories(dataset,feature_name):\n",
    "    crosstab = np.round(pd.crosstab(dataset[feature_name],dataset['CancelStatus'], normalize='index')*100)\n",
    "    zero = crosstab[crosstab['Not Canceled']>50].index.values\n",
    "    one = crosstab[crosstab['Canceled']>50].index.values\n",
    "    \n",
    "    dataset[feature_name+'_Recoded'] = np.where(dataset[feature_name].isin(one),'One','Zero')\n",
    "    \n",
    "    return zero,one,dataset"
   ]
  },
  {
   "cell_type": "code",
   "execution_count": 35,
   "metadata": {},
   "outputs": [],
   "source": [
    "## create binary features\n",
    "zero_Country,one_Country,dataset = recode_categories(dataset,feature_name='Country')\n",
    "zero_Agent,one_Agent,dataset = recode_categories(dataset,feature_name='Agent')\n",
    "zero_Company,one_Company,dataset = recode_categories(dataset,feature_name='Company')"
   ]
  },
  {
   "cell_type": "code",
   "execution_count": null,
   "metadata": {},
   "outputs": [],
   "source": []
  },
  {
   "cell_type": "code",
   "execution_count": 36,
   "metadata": {},
   "outputs": [
    {
     "data": {
      "image/png": "[encoded data removed]",
      "text/plain": [
       "<Figure size 4000x4000 with 1 Axes>"
      ]
     },
     "metadata": {},
     "output_type": "display_data"
    }
   ],
   "source": [
    "column=['Meal','DepositType']#,'Country_Recoded', 'Agent_Recoded','Company_Recoded']\n",
    "#,\n",
    "# ,'Country', 'Agent', 'Company'\n",
    "\n",
    "# column=['Country']\n",
    "\n",
    "dataset_mc = dataset[['CancelStatus']+column]\n",
    "mc = prince.MCA(n_components=2,n_iter=100,copy=True,check_input=True,engine='auto',random_state=10)\n",
    "mc_model = mc.fit(dataset_mc)\n",
    "\n",
    "ax = mc_model.plot_coordinates(X=dataset_mc,ax=None,figsize=(40, 40),show_row_points=False,row_points_size=0,\n",
    "        show_row_labels=False,show_column_points=True,column_points_size=200,show_column_labels=True,legend_n_cols=50).legend(loc='best', bbox_to_anchor=(1, 1),fontsize=20)\n",
    "\n",
    "plt.grid(b=None)\n"
   ]
  },
  {
   "cell_type": "markdown",
   "metadata": {},
   "source": [
    "#### Chi-square test for 4 created features"
   ]
  },
  {
   "cell_type": "code",
   "execution_count": 37,
   "metadata": {},
   "outputs": [],
   "source": [
    "#create feature from correspondence analysis findings\n",
    "#customers who either did bead and breakfast or who did not deposit any sum while making reservations\n",
    "\n",
    "dataset['LessCancellation'] = np.where(((dataset['Meal']=='BB       ') | (dataset['DepositType']=='No Deposit       ')),1,0)\n"
   ]
  },
  {
   "cell_type": "code",
   "execution_count": 38,
   "metadata": {},
   "outputs": [
    {
     "name": "stdout",
     "output_type": "stream",
     "text": [
      "p value is 0.0000000000018967970752340163\n",
      "Reject null hypothesis! There is relationship between two variables and the feature is useful.\n"
     ]
    }
   ],
   "source": [
    "### Country_Recoded\n",
    "\n",
    "stat, p, dof, expected=chi2_contingency(pd.crosstab(dataset['Country_Recoded'], dataset['CancelStatus']))\n",
    "alpha = 0.05\n",
    "print(\"p value is \" + str(np.format_float_positional(p, trim='-')))\n",
    "if round(p,2) <= alpha:\n",
    "    print('Reject null hypothesis! There is relationship between two variables and the feature is useful.')\n",
    "else:\n",
    "    print('Accept null hypothesis! There is no relationship between two variables.')"
   ]
  },
  {
   "cell_type": "code",
   "execution_count": 39,
   "metadata": {},
   "outputs": [
    {
     "name": "stdout",
     "output_type": "stream",
     "text": [
      "p value is 0\n",
      "Reject null hypothesis! There is relationship between two variables and the feature is useful.\n"
     ]
    }
   ],
   "source": [
    "### Agent_Recoded\n",
    "\n",
    "stat, p, dof, expected=chi2_contingency(pd.crosstab(dataset['Agent_Recoded'], dataset['CancelStatus']))\n",
    "alpha = 0.05\n",
    "print(\"p value is \" + str(np.format_float_positional(p, trim='-')))\n",
    "if round(p,2) <= alpha:\n",
    "    print('Reject null hypothesis! There is relationship between two variables and the feature is useful.')\n",
    "else:\n",
    "    print('Accept null hypothesis! There is no relationship between two variables.')"
   ]
  },
  {
   "cell_type": "code",
   "execution_count": 40,
   "metadata": {},
   "outputs": [
    {
     "name": "stdout",
     "output_type": "stream",
     "text": [
      "p value is 0.00000000410969116507584\n",
      "Reject null hypothesis! There is relationship between two variables and the feature is useful.\n"
     ]
    }
   ],
   "source": [
    "### Company_Recoded\n",
    "\n",
    "stat, p, dof, expected=chi2_contingency(pd.crosstab(dataset['Company_Recoded'], dataset['CancelStatus']))\n",
    "alpha = 0.05\n",
    "print(\"p value is \" + str(np.format_float_positional(p, trim='-')))\n",
    "if round(p,2) <= alpha:\n",
    "    print('Reject null hypothesis! There is relationship between two variables and the feature is useful.')\n",
    "else:\n",
    "    print('Accept null hypothesis! There is no relationship between two variables.')"
   ]
  },
  {
   "cell_type": "code",
   "execution_count": 41,
   "metadata": {},
   "outputs": [
    {
     "name": "stdout",
     "output_type": "stream",
     "text": [
      "p value is 0.00000000000000000000000000000000003184550925718439\n",
      "Reject null hypothesis! There is relationship between two variables and the feature is useful.\n"
     ]
    }
   ],
   "source": [
    "### LessCancellation\n",
    "\n",
    "stat, p, dof, expected=chi2_contingency(pd.crosstab(dataset['LessCancellation'], dataset['CancelStatus']))\n",
    "alpha = 0.05\n",
    "print(\"p value is \" + str(np.format_float_positional(p, trim='-')))\n",
    "if round(p,2) <= alpha:\n",
    "    print('Reject null hypothesis! There is relationship between two variables and the feature is useful.')\n",
    "else:\n",
    "    print('Accept null hypothesis! There is no relationship between two variables.')"
   ]
  },
  {
   "cell_type": "code",
   "execution_count": 42,
   "metadata": {},
   "outputs": [
    {
     "data": {
      "text/plain": [
       "('Country_Recoded', 'Agent_Recoded', 'Company_Recoded')"
      ]
     },
     "execution_count": 42,
     "metadata": {},
     "output_type": "execute_result"
    }
   ],
   "source": [
    "'Country_Recoded', 'Agent_Recoded','Company_Recoded'"
   ]
  },
  {
   "cell_type": "code",
   "execution_count": null,
   "metadata": {},
   "outputs": [],
   "source": []
  },
  {
   "cell_type": "code",
   "execution_count": null,
   "metadata": {},
   "outputs": [],
   "source": []
  },
  {
   "cell_type": "code",
   "execution_count": null,
   "metadata": {},
   "outputs": [],
   "source": []
  }
 ],
 "metadata": {
  "kernelspec": {
   "display_name": "Python 3 (ipykernel)",
   "language": "python",
   "name": "python3"
  },
  "language_info": {
   "codemirror_mode": {
    "name": "ipython",
    "version": 3
   },
   "file_extension": ".py",
   "mimetype": "text/x-python",
   "name": "python",
   "nbconvert_exporter": "python",
   "pygments_lexer": "ipython3",
   "version": "3.9.13"
  }
 },
 "nbformat": 4,
 "nbformat_minor": 2
}
